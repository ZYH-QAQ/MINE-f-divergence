{
 "cells": [
  {
   "cell_type": "code",
   "execution_count": 1,
   "metadata": {},
   "outputs": [],
   "source": [
    "import torch\n",
    "import numpy as np\n",
    "import matplotlib.pyplot as plt"
   ]
  },
  {
   "cell_type": "code",
   "execution_count": 5,
   "metadata": {},
   "outputs": [],
   "source": [
    "X = np.random.normal(0, 0.3, (1000, 20))\n",
    "Y = np.random.normal(0, 0.03, (1000, 12))\n",
    "\n",
    "theta = np.random.uniform(np.random.randint(0, 10), np.random.randint(10, 20), size=(X.shape[0] - 1, X.shape[1]))\n",
    "phi = np.random.uniform(np.random.randint(0, 10), np.random.randint(10, 20), size=(Y.shape[0] - 1, Y.shape[1]))"
   ]
  },
  {
   "cell_type": "code",
   "execution_count": 14,
   "metadata": {},
   "outputs": [],
   "source": [
    "def n_d_uniform(n_dim, n_num):\n",
    "    points = []\n",
    "    for _ in range(n_num):\n",
    "        var = np.random.uniform(-1, 1, size=n_dim)\n",
    "        r_ = np.linalg.norm(var)\n",
    "        normalized = var / r_\n",
    "        points.append(normalized)\n",
    "    return np.array(points, dtype=np.float32)"
   ]
  },
  {
   "cell_type": "code",
   "execution_count": 19,
   "metadata": {},
   "outputs": [
    {
     "data": {
      "text/plain": [
       "array([[-3.18557409e-02,  3.22415666e-02, -6.14039529e-02, ...,\n",
       "         2.20791798e-02,  6.18001930e-02, -4.51770726e-02],\n",
       "       [ 1.66259710e-02,  1.73927716e-02, -2.20824948e-02, ...,\n",
       "         1.19040624e-02, -5.36014572e-02, -2.31565687e-02],\n",
       "       [-1.49424303e-02, -3.84056041e-02,  4.99916981e-04, ...,\n",
       "        -3.81636296e-02, -2.98862507e-05, -6.43158846e-03],\n",
       "       ...,\n",
       "       [ 2.48133214e-02,  1.79412117e-02, -8.36585191e-02, ...,\n",
       "        -2.77167778e-02,  8.27805586e-02, -1.98744698e-02],\n",
       "       [ 2.15733269e-02, -7.33241903e-03, -9.07870121e-03, ...,\n",
       "         1.42117952e-02,  4.92386553e-03, -3.91532035e-02],\n",
       "       [-2.72978887e-02, -2.16320290e-02, -2.20926970e-02, ...,\n",
       "         1.44546019e-02,  4.41024680e-02,  6.14551064e-02]])"
      ]
     },
     "execution_count": 19,
     "metadata": {},
     "output_type": "execute_result"
    }
   ],
   "source": [
    "t = n_d_uniform(1000, 20)\n",
    "X @ t"
   ]
  }
 ],
 "metadata": {
  "kernelspec": {
   "display_name": "deeplearning",
   "language": "python",
   "name": "python3"
  },
  "language_info": {
   "codemirror_mode": {
    "name": "ipython",
    "version": 3
   },
   "file_extension": ".py",
   "mimetype": "text/x-python",
   "name": "python",
   "nbconvert_exporter": "python",
   "pygments_lexer": "ipython3",
   "version": "3.10.11"
  }
 },
 "nbformat": 4,
 "nbformat_minor": 2
}
